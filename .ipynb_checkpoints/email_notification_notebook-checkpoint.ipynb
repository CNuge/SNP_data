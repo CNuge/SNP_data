{
 "cells": [
  {
   "cell_type": "markdown",
   "metadata": {},
   "source": [
    "# This thing I built: to send me automatic email notifications"
   ]
  },
  {
   "cell_type": "markdown",
   "metadata": {},
   "source": [
    "## Preamble: why I built this\n",
    "(you can skip down to 'the code' if you don't care about why I built this thing.\n",
    "\n",
    "The reason I built this simple script is that I often run Blast (https://blast.ncbi.nlm.nih.gov/Blast.cgi) and other computationally heavy programs at work, in order to conduct comparisons between the DNA content of different genomes. These programs are extremly useful, and their results provide some of the most amazing black and white evidence of evolutation in action. The problem with blast is that when you have subjects or queries that are very large in size, it can take a long time to run! At work, I run Blast on one of the lab computers, so that I don't have to lose use of my laptop for hours or days at a time. The lab computer I use is almost 30 meters away from my desk though! After a few dozen times of walking back and forth asking 'are we there yet computer?' I figured there has to be a better way. So I built this program to email me when the Blast analysis is finished running, and as an added bonus send me the output file if I so desire. So how did I do it?"
   ]
  },
  {
   "cell_type": "markdown",
   "metadata": {},
   "source": [
    "## The email notification script\n",
    "\n",
    "I will walk through this script front to back, as I have coded it up in a flat, linear manner without the use of functions\n",
    "\n",
    "## Make a dummy email\n",
    "This step does not involve code, you need to go get an email address that you will be sending the updates from! I wouldn't reccommend using your normal email, as we have to tweak the security features to let our script access it. So you can go make a new gmail account (or host of your choice) that will be dedicated specifically to this purpose."
   ]
  },
  {
   "cell_type": "markdown",
   "metadata": {},
   "source": [
    "# # The code\n",
    "## imports\n",
    "To start off the script, we need to import a few modules that we will need.\n",
    "Hand wavy explination is these are the modules needed to write an email, and interact with an email server on the interwebs. If you want detail on the modules themselves, google 'python import #module_of_interest', otherwise you can just look at the final code for where each of the imported functions gets used and see what they do."
   ]
  },
  {
   "cell_type": "code",
   "execution_count": null,
   "metadata": {
    "collapsed": true
   },
   "outputs": [],
   "source": [
    "import smtplib\n",
    "import socket\n",
    "import argparse\n",
    "from datetime import datetime\n",
    "from email.mime.text import MIMEText\n",
    "from email.mime.multipart import MIMEMultipart\n",
    "from email.mime.base import MIMEBase\n",
    "from email import encoders"
   ]
  },
  {
   "cell_type": "markdown",
   "metadata": {},
   "source": [
    "## Command line arguments\n",
    "This script takes one mandatory argument, and one optional one. The mandatory one is a recipient email address which must be specified, and the optional one is a flag '-a' specifying a path to a file, or just the file name if it is in the same directory that the script is being run from.\n"
   ]
  },
  {
   "cell_type": "code",
   "execution_count": null,
   "metadata": {
    "collapsed": true
   },
   "outputs": [],
   "source": [
    "parser = argparse.ArgumentParser()\n",
    "parser.add_argument(\"email\", help=\"input the email address you wish the notification to be sent to\")\n",
    "parser.add_argument( '-a','--attachment', help='input the name of the file you wish to attach', default='no_file')\n",
    "args = parser.parse_args()"
   ]
  },
  {
   "cell_type": "markdown",
   "metadata": {},
   "source": [
    "Remember the important bits, what email are we sending the message from, and where is it going?"
   ]
  },
  {
   "cell_type": "code",
   "execution_count": null,
   "metadata": {
    "collapsed": true
   },
   "outputs": [],
   "source": [
    "fromaddr = 'dummyemail@gmail.com' #your dummy email here\n",
    "toaddr = str(args.email)"
   ]
  },
  {
   "cell_type": "markdown",
   "metadata": {},
   "source": [
    "initiate the email message, add a sender, recipient and a subject line"
   ]
  },
  {
   "cell_type": "code",
   "execution_count": null,
   "metadata": {
    "collapsed": true
   },
   "outputs": [],
   "source": [
    "msg = MIMEMultipart()\n",
    "msg['From'] = fromaddr\n",
    "msg['To'] = toaddr\n",
    "msg['Subject'] = \"Your program has finished\" #artistic liberties can be taken here"
   ]
  },
  {
   "cell_type": "markdown",
   "metadata": {},
   "source": [
    "## Guideline parts: Composing the body of the message\n",
    "Here I have written the code to send me an email that says the following in the body of the text:\n",
    "\n",
    "'The program you were running on the computer 'lab_workstation' completed at 13:31 on 07/01/2017.'\n",
    "\n",
    "This uses both a call to the name of the host computer, and several markups of the current datetime to produce the above sentence. If you wanted to spice up the body of your email, or use it for a completely different puropse, then a different message can be built into a string here (for a more complex example, where I embed graphs see the file: https://github.com/CNuge/morning_report/blob/master/email_me.py)\n"
   ]
  },
  {
   "cell_type": "code",
   "execution_count": null,
   "metadata": {
    "collapsed": true
   },
   "outputs": [],
   "source": [
    "now = datetime.now() #get the current time\n",
    "where = socket.gethostname() #get the name of the computer we are running on\n",
    "when_micro = now.strftime('%I:%M') # pull the hours and minutes from current time object\n",
    "when_macro = now.strftime('%m/%d/%Y') # pull the m/d/y string from current time object\n",
    "#then simple string composition\n",
    "finish_time = 'at %s on %s.' % (when_micro , when_macro) \n",
    "body = 'The program you were running on the computer \\'' + where + '\\' completed ' + finish_time\n",
    "\n",
    "\n"
   ]
  },
  {
   "cell_type": "markdown",
   "metadata": {},
   "source": [
    "## Attach the body to the message\n",
    "The body string is then attached to the msg object, in a plain text format."
   ]
  },
  {
   "cell_type": "code",
   "execution_count": null,
   "metadata": {
    "collapsed": true
   },
   "outputs": [],
   "source": [
    "msg.attach(MIMEText(body, 'plain'))"
   ]
  },
  {
   "cell_type": "markdown",
   "metadata": {},
   "source": [
    "## Optional: email attachment \n",
    "The next part checks if the -a flag is the default 'no_file' value, if it is not then the program opens the file and reads it in to memory. \n",
    "The the following lines create the class that hold the attachment, then place it within the email message content\n",
    "The last two lines are an optional text addition to the body, saying what file has been attached. This is redundant information but it is aesthetically pleasing to me."
   ]
  },
  {
   "cell_type": "code",
   "execution_count": null,
   "metadata": {
    "collapsed": true
   },
   "outputs": [],
   "source": [
    "\n",
    "if args.attachment != 'no_file':\n",
    "    read_attachment = open(args.attachment, \"rb\")\n",
    "    part = MIMEBase('application', 'octet-stream') #this creates a MIMEBase instance \n",
    "    part.set_payload((read_attachment).read()) #set the file variable to the message payload\n",
    "    encoders.encode_base64(part) #default encoding is base64, we encode the file\n",
    "    part.add_header('Content-Disposition', \"attachment; filename= %s\" % args.attachment)\n",
    "    msg.attach(part) #attach the attachment to the body of the message\n",
    "    \n",
    "    attach_note = '\\nThe desired output file,\\' %s\\' is attached.' % (args.attachment)\n",
    "    msg.attach(MIMEText(attach_note, 'plain')) "
   ]
  },
  {
   "cell_type": "markdown",
   "metadata": {},
   "source": [
    "This last segment of the script connects to the host, logs in to the 'fromaddr' dummy email account, attaches the message and then sends the emal. The last line closes the connection with the server.\n",
    "\n",
    "Note that the server connection line will change if you're using a non gmail address.\n",
    "\n",
    "You also need to put in the account password in the string 'passwordhere', for obvious reasons I'm leaving these parts to be filled in by you."
   ]
  },
  {
   "cell_type": "code",
   "execution_count": null,
   "metadata": {
    "collapsed": true
   },
   "outputs": [],
   "source": [
    "server = smtplib.SMTP('server here') \n",
    "#for a gmail this line is:\n",
    "#server = smtplib.SMTP('smtp.gmail.com', 587)\n",
    "server.starttls()\n",
    "server.login(fromaddr, 'passwordhere') #add the dummy account's password here!\n",
    "text = msg.as_string()\n",
    "server.sendmail(fromaddr, toaddr, text)\n",
    "server.quit()"
   ]
  },
  {
   "cell_type": "markdown",
   "metadata": {},
   "source": [
    "## Final step - google permissions\n",
    "The above chunk of code will fail to log in to the email address, unless we go to google and change to account permissions to allow for less secure access. To do this, go to the gmail webpage and do the following:\n",
    "\n",
    "1. Click on the 'my account page' (top right, embedded in the circle showing your account's first letter\n",
    "2. Go to the 'Sign-in & Security' tab\n",
    "3. Toggle: Allow less secure apps to ON\n",
    "\n",
    "This will allow our less secure python script to access the account and send the email, and it is also the reason I suggest you don't use your main gmail account, as this seems like a bad idea from a security perspective for an account with important info on it!"
   ]
  },
  {
   "cell_type": "markdown",
   "metadata": {},
   "source": [
    "## Suggested use\n",
    "\n",
    "Remember the goal of this program is to notify me when another program is finished. So what is the easiest way to do this?\n",
    "\n",
    "My preferred method of deployment is through a shell script containing the command for the primary program of interest, followed by the input command for this script.\n",
    "\n",
    "For example, we could do the following:\n",
    "1. initiate the shell script:\n",
    "\n",
    "touch wrapper_shell.sh\n",
    "\n",
    "2. write the commands into wrapper_shell.sh\n",
    "\n",
    "#our primary script command\n",
    "python example_program.py\n",
    "\n",
    "#the email notification command to run this script\n",
    "python email_notification.py send_to_here@gmail.com -a 'output_of_example_program.txt'\n",
    "\n",
    "3. save the script, then run the line:\n",
    "./wrapper_shell.sh\n",
    "\n",
    "4. walk away, get a coffee and wait for the email telling you the program has completed!\n",
    "\n",
    "Alternatively, you can just type the email notification line into the terminal after the primary script is up and running (it will sit in the queue and run once the first bit of code finishes).\n",
    "\n"
   ]
  },
  {
   "cell_type": "markdown",
   "metadata": {},
   "source": [
    "## What I learned:\n",
    "\n",
    "I wrote this script a fairly long time ago, and when I went to write this up, I contempletated changing the code around to be run in several functions, but as I started this I realized that keeping things simple isn't such a bad thing, and that the current layout makes it pretty easy to follow. Keeping it simple is a good idea, and using functions where they are not needed may look pretty and make me look like a good coder, but this can come at a loss of the code's intuitive nature. After all as python's 'import this' doc says: simple is better than complex, and flat is better than nested.\n",
    "\n",
    "This script is very useful, and I have implemented it on a day to day basis as it does its job very well. The general shell of an automatic email sending script can also be generalized to complete a large number of different tasks, most things you can produce can be added to the body of the message or attached to the message. The only limits for what you can do with this scaffold of an automatic email script are your imagination.\n",
    "\n",
    "Once the MIMEMultipart and other MIME functions are understood, the the code desn't really change much from one implementation to the next. Composing an email and sending it is very easy, you just make the string with the message you wish to send, and msg.attach(MIMEText(body, 'plain')) is the only code you need to add it on to the message. Attaching a file to the message is a slightly more criptic process, but the use of the MIMEBase and the set_payload() function allows for the file to be attached to the message in its original form. \n",
    "\n",
    "It is worth noting that you can in fact place file contents within the message body as well. For example, if I wanted to place an image in the email message (so it is seen when the message is opened, as opposed to being an attached file) then you would replace the 'Optional: email attachment' code with the following:"
   ]
  },
  {
   "cell_type": "code",
   "execution_count": null,
   "metadata": {
    "collapsed": true
   },
   "outputs": [],
   "source": [
    "with open(args.attachment, 'rb') as fp:\n",
    "\t\timg = MIMEImage(fp.read())\n",
    "\t\tmsg.attach(img)"
   ]
  },
  {
   "cell_type": "markdown",
   "metadata": {},
   "source": []
  }
 ],
 "metadata": {
  "kernelspec": {
   "display_name": "Python 3",
   "language": "python",
   "name": "python3"
  },
  "language_info": {
   "codemirror_mode": {
    "name": "ipython",
    "version": 3
   },
   "file_extension": ".py",
   "mimetype": "text/x-python",
   "name": "python",
   "nbconvert_exporter": "python",
   "pygments_lexer": "ipython3",
   "version": "3.6.1"
  }
 },
 "nbformat": 4,
 "nbformat_minor": 2
}
