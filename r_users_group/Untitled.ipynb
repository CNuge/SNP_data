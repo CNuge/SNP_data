{
 "cells": [
  {
   "cell_type": "markdown",
   "metadata": {},
   "source": [
    "# Cam's jupyter example\n",
    "\n",
    "\n",
    "## has subheadings\n",
    "\n",
    "\n",
    "### can do this\n",
    "\n",
    "set the wd"
   ]
  },
  {
   "cell_type": "code",
   "execution_count": 1,
   "metadata": {
    "collapsed": true
   },
   "outputs": [],
   "source": [
    "setwd('/Users/Cam/Desktop/Alana') #change this\n"
   ]
  },
  {
   "cell_type": "markdown",
   "metadata": {},
   "source": [
    "## Load in the data\n",
    "talk about structures here"
   ]
  },
  {
   "cell_type": "code",
   "execution_count": 2,
   "metadata": {
    "collapsed": true
   },
   "outputs": [],
   "source": [
    "\n",
    "#this is where you loaded the data in\n",
    "t1 = read.table('test1.txt', sep='\\t',header=T)\n",
    "t2 = read.table('test.txt', sep='\\t',header=T)\n"
   ]
  },
  {
   "cell_type": "code",
   "execution_count": 3,
   "metadata": {},
   "outputs": [
    {
     "data": {
      "text/html": [
       "<table>\n",
       "<thead><tr><th scope=col>id001</th><th scope=col>target</th></tr></thead>\n",
       "<tbody>\n",
       "\t<tr><td> 0      </td><td>0.025197</td></tr>\n",
       "\t<tr><td> 1      </td><td>0.026658</td></tr>\n",
       "\t<tr><td> 2      </td><td>0.024235</td></tr>\n",
       "\t<tr><td> 3      </td><td>0.014459</td></tr>\n",
       "\t<tr><td> 4      </td><td>0.035574</td></tr>\n",
       "\t<tr><td> 5      </td><td>0.041331</td></tr>\n",
       "\t<tr><td> 6      </td><td>0.016688</td></tr>\n",
       "\t<tr><td> 8      </td><td>0.032340</td></tr>\n",
       "\t<tr><td>10      </td><td>0.047226</td></tr>\n",
       "\t<tr><td>11      </td><td>0.052472</td></tr>\n",
       "\t<tr><td>12      </td><td>0.033074</td></tr>\n",
       "</tbody>\n",
       "</table>\n"
      ],
      "text/latex": [
       "\\begin{tabular}{r|ll}\n",
       " id001 & target\\\\\n",
       "\\hline\n",
       "\t  0       & 0.025197\\\\\n",
       "\t  1       & 0.026658\\\\\n",
       "\t  2       & 0.024235\\\\\n",
       "\t  3       & 0.014459\\\\\n",
       "\t  4       & 0.035574\\\\\n",
       "\t  5       & 0.041331\\\\\n",
       "\t  6       & 0.016688\\\\\n",
       "\t  8       & 0.032340\\\\\n",
       "\t 10       & 0.047226\\\\\n",
       "\t 11       & 0.052472\\\\\n",
       "\t 12       & 0.033074\\\\\n",
       "\\end{tabular}\n"
      ],
      "text/markdown": [
       "\n",
       "id001 | target | \n",
       "|---|---|---|---|---|---|---|---|---|---|---|\n",
       "|  0       | 0.025197 | \n",
       "|  1       | 0.026658 | \n",
       "|  2       | 0.024235 | \n",
       "|  3       | 0.014459 | \n",
       "|  4       | 0.035574 | \n",
       "|  5       | 0.041331 | \n",
       "|  6       | 0.016688 | \n",
       "|  8       | 0.032340 | \n",
       "| 10       | 0.047226 | \n",
       "| 11       | 0.052472 | \n",
       "| 12       | 0.033074 | \n",
       "\n",
       "\n"
      ],
      "text/plain": [
       "   id001 target  \n",
       "1   0    0.025197\n",
       "2   1    0.026658\n",
       "3   2    0.024235\n",
       "4   3    0.014459\n",
       "5   4    0.035574\n",
       "6   5    0.041331\n",
       "7   6    0.016688\n",
       "8   8    0.032340\n",
       "9  10    0.047226\n",
       "10 11    0.052472\n",
       "11 12    0.033074"
      ]
     },
     "metadata": {},
     "output_type": "display_data"
    }
   ],
   "source": [
    "# check that these match your data type\n",
    "t1"
   ]
  },
  {
   "cell_type": "code",
   "execution_count": 4,
   "metadata": {},
   "outputs": [
    {
     "data": {
      "text/html": [
       "<table>\n",
       "<thead><tr><th scope=col>id002</th><th scope=col>target</th></tr></thead>\n",
       "<tbody>\n",
       "\t<tr><td> 0      </td><td>0.025197</td></tr>\n",
       "\t<tr><td> 1      </td><td>0.026658</td></tr>\n",
       "\t<tr><td> 2      </td><td>0.024235</td></tr>\n",
       "\t<tr><td> 3      </td><td>0.014459</td></tr>\n",
       "\t<tr><td> 4      </td><td>0.035574</td></tr>\n",
       "\t<tr><td> 5      </td><td>0.041331</td></tr>\n",
       "\t<tr><td> 6      </td><td>0.016688</td></tr>\n",
       "\t<tr><td> 8      </td><td>0.032340</td></tr>\n",
       "\t<tr><td>10      </td><td>0.047226</td></tr>\n",
       "\t<tr><td>11      </td><td>0.052472</td></tr>\n",
       "\t<tr><td>12      </td><td>0.033074</td></tr>\n",
       "</tbody>\n",
       "</table>\n"
      ],
      "text/latex": [
       "\\begin{tabular}{r|ll}\n",
       " id002 & target\\\\\n",
       "\\hline\n",
       "\t  0       & 0.025197\\\\\n",
       "\t  1       & 0.026658\\\\\n",
       "\t  2       & 0.024235\\\\\n",
       "\t  3       & 0.014459\\\\\n",
       "\t  4       & 0.035574\\\\\n",
       "\t  5       & 0.041331\\\\\n",
       "\t  6       & 0.016688\\\\\n",
       "\t  8       & 0.032340\\\\\n",
       "\t 10       & 0.047226\\\\\n",
       "\t 11       & 0.052472\\\\\n",
       "\t 12       & 0.033074\\\\\n",
       "\\end{tabular}\n"
      ],
      "text/markdown": [
       "\n",
       "id002 | target | \n",
       "|---|---|---|---|---|---|---|---|---|---|---|\n",
       "|  0       | 0.025197 | \n",
       "|  1       | 0.026658 | \n",
       "|  2       | 0.024235 | \n",
       "|  3       | 0.014459 | \n",
       "|  4       | 0.035574 | \n",
       "|  5       | 0.041331 | \n",
       "|  6       | 0.016688 | \n",
       "|  8       | 0.032340 | \n",
       "| 10       | 0.047226 | \n",
       "| 11       | 0.052472 | \n",
       "| 12       | 0.033074 | \n",
       "\n",
       "\n"
      ],
      "text/plain": [
       "   id002 target  \n",
       "1   0    0.025197\n",
       "2   1    0.026658\n",
       "3   2    0.024235\n",
       "4   3    0.014459\n",
       "5   4    0.035574\n",
       "6   5    0.041331\n",
       "7   6    0.016688\n",
       "8   8    0.032340\n",
       "9  10    0.047226\n",
       "10 11    0.052472\n",
       "11 12    0.033074"
      ]
     },
     "metadata": {},
     "output_type": "display_data"
    }
   ],
   "source": [
    "t2"
   ]
  },
  {
   "cell_type": "markdown",
   "metadata": {},
   "source": [
    "all the data is shown below"
   ]
  },
  {
   "cell_type": "code",
   "execution_count": 5,
   "metadata": {
    "collapsed": true
   },
   "outputs": [],
   "source": [
    "flight_sims = list(t1,t2)\n"
   ]
  },
  {
   "cell_type": "code",
   "execution_count": 6,
   "metadata": {},
   "outputs": [
    {
     "data": {
      "text/html": [
       "<table>\n",
       "<thead><tr><th scope=col>id</th><th scope=col>data_col</th></tr></thead>\n",
       "<tbody>\n",
       "</tbody>\n",
       "</table>\n"
      ],
      "text/latex": [
       "\\begin{tabular}{r|ll}\n",
       " id & data\\_col\\\\\n",
       "\\hline\n",
       "\\end{tabular}\n"
      ],
      "text/markdown": [
       "\n",
       "id | data_col | \n",
       "||\n",
       "\n",
       "\n"
      ],
      "text/plain": [
       "     id data_col"
      ]
     },
     "metadata": {},
     "output_type": "display_data"
    },
    {
     "data": {
      "text/html": [
       "<table>\n",
       "<thead><tr><th scope=col>id</th><th scope=col>data_col</th></tr></thead>\n",
       "<tbody>\n",
       "\t<tr><td>id001</td><td> 0   </td></tr>\n",
       "\t<tr><td>id001</td><td> 1   </td></tr>\n",
       "\t<tr><td>id001</td><td> 2   </td></tr>\n",
       "\t<tr><td>id001</td><td> 3   </td></tr>\n",
       "\t<tr><td>id001</td><td> 4   </td></tr>\n",
       "\t<tr><td>id001</td><td> 5   </td></tr>\n",
       "\t<tr><td>id001</td><td> 6   </td></tr>\n",
       "\t<tr><td>id001</td><td> 8   </td></tr>\n",
       "\t<tr><td>id001</td><td>10   </td></tr>\n",
       "\t<tr><td>id001</td><td>11   </td></tr>\n",
       "\t<tr><td>id001</td><td>12   </td></tr>\n",
       "\t<tr><td>id002</td><td> 0   </td></tr>\n",
       "\t<tr><td>id002</td><td> 1   </td></tr>\n",
       "\t<tr><td>id002</td><td> 2   </td></tr>\n",
       "\t<tr><td>id002</td><td> 3   </td></tr>\n",
       "\t<tr><td>id002</td><td> 4   </td></tr>\n",
       "\t<tr><td>id002</td><td> 5   </td></tr>\n",
       "\t<tr><td>id002</td><td> 6   </td></tr>\n",
       "\t<tr><td>id002</td><td> 8   </td></tr>\n",
       "\t<tr><td>id002</td><td>10   </td></tr>\n",
       "\t<tr><td>id002</td><td>11   </td></tr>\n",
       "\t<tr><td>id002</td><td>12   </td></tr>\n",
       "</tbody>\n",
       "</table>\n"
      ],
      "text/latex": [
       "\\begin{tabular}{r|ll}\n",
       " id & data\\_col\\\\\n",
       "\\hline\n",
       "\t id001 &  0   \\\\\n",
       "\t id001 &  1   \\\\\n",
       "\t id001 &  2   \\\\\n",
       "\t id001 &  3   \\\\\n",
       "\t id001 &  4   \\\\\n",
       "\t id001 &  5   \\\\\n",
       "\t id001 &  6   \\\\\n",
       "\t id001 &  8   \\\\\n",
       "\t id001 & 10   \\\\\n",
       "\t id001 & 11   \\\\\n",
       "\t id001 & 12   \\\\\n",
       "\t id002 &  0   \\\\\n",
       "\t id002 &  1   \\\\\n",
       "\t id002 &  2   \\\\\n",
       "\t id002 &  3   \\\\\n",
       "\t id002 &  4   \\\\\n",
       "\t id002 &  5   \\\\\n",
       "\t id002 &  6   \\\\\n",
       "\t id002 &  8   \\\\\n",
       "\t id002 & 10   \\\\\n",
       "\t id002 & 11   \\\\\n",
       "\t id002 & 12   \\\\\n",
       "\\end{tabular}\n"
      ],
      "text/markdown": [
       "\n",
       "id | data_col | \n",
       "|---|---|---|---|---|---|---|---|---|---|---|---|---|---|---|---|---|---|---|---|---|---|\n",
       "| id001 |  0    | \n",
       "| id001 |  1    | \n",
       "| id001 |  2    | \n",
       "| id001 |  3    | \n",
       "| id001 |  4    | \n",
       "| id001 |  5    | \n",
       "| id001 |  6    | \n",
       "| id001 |  8    | \n",
       "| id001 | 10    | \n",
       "| id001 | 11    | \n",
       "| id001 | 12    | \n",
       "| id002 |  0    | \n",
       "| id002 |  1    | \n",
       "| id002 |  2    | \n",
       "| id002 |  3    | \n",
       "| id002 |  4    | \n",
       "| id002 |  5    | \n",
       "| id002 |  6    | \n",
       "| id002 |  8    | \n",
       "| id002 | 10    | \n",
       "| id002 | 11    | \n",
       "| id002 | 12    | \n",
       "\n",
       "\n"
      ],
      "text/plain": [
       "   id    data_col\n",
       "1  id001  0      \n",
       "2  id001  1      \n",
       "3  id001  2      \n",
       "4  id001  3      \n",
       "5  id001  4      \n",
       "6  id001  5      \n",
       "7  id001  6      \n",
       "8  id001  8      \n",
       "9  id001 10      \n",
       "10 id001 11      \n",
       "11 id001 12      \n",
       "12 id002  0      \n",
       "13 id002  1      \n",
       "14 id002  2      \n",
       "15 id002  3      \n",
       "16 id002  4      \n",
       "17 id002  5      \n",
       "18 id002  6      \n",
       "19 id002  8      \n",
       "20 id002 10      \n",
       "21 id002 11      \n",
       "22 id002 12      "
      ]
     },
     "metadata": {},
     "output_type": "display_data"
    }
   ],
   "source": [
    "\n",
    "#we make an empty dataframe we will add to\n",
    "new_df = data.frame(matrix(ncol = 2, nrow = 0))\n",
    "columns = c('id','data_col')\n",
    "colnames(new_df) = columns\n",
    "\n",
    "new_df #check the headers are right\n",
    "\n",
    "\n",
    "#you could add an additional column in below if you wish to retain more data\n",
    "for(bfly in flight_sims){\n",
    "\tid = names(bfly)[1]\t #this relies on the first column being the id name\n",
    "\tdat = data.frame(id=rep(id, length(bfly[,id])), data_col =list(bfly[id]))\n",
    "\tcolnames(dat) = columns\n",
    "\tnew_df = rbind(new_df, dat)\n",
    "}\n",
    "\n",
    "#this is your dataframe with the id's of the butterflies in col 1 \n",
    "#and the data is now in column 1\n",
    "new_df #can save this to a .csv\n",
    "\n"
   ]
  },
  {
   "cell_type": "code",
   "execution_count": null,
   "metadata": {
    "collapsed": true
   },
   "outputs": [],
   "source": []
  }
 ],
 "metadata": {
  "kernelspec": {
   "display_name": "R",
   "language": "R",
   "name": "ir"
  },
  "language_info": {
   "codemirror_mode": "r",
   "file_extension": ".r",
   "mimetype": "text/x-r-source",
   "name": "R",
   "pygments_lexer": "r",
   "version": "3.3.2"
  }
 },
 "nbformat": 4,
 "nbformat_minor": 2
}
